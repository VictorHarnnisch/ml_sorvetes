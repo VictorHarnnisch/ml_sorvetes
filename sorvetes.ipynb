{
 "cells": [
  {
   "cell_type": "code",
   "execution_count": null,
   "id": "25fa3187",
   "metadata": {
    "vscode": {
     "languageId": "plaintext"
    }
   },
   "outputs": [],
   "source": [
    "import pandas as pd\n",
    "import numpy as np\n",
    "import matplotlib.pyplot as plt\n",
    "import seaborn as sns\n",
    "from sklearn.model_selection import train_test_split\n",
    "from sklearn.linear_model import LinearRegression\n",
    "from sklearn.metrics import mean_absolute_error, r2_score\n",
    "\n",
    "# Carregar o dataset\n",
    "df = pd.read_csv(\"vendas_sorvetes.tsv\", sep=\"\\t\")\n",
    "\n",
    "# Visualizar as primeiras linhas\n",
    "print(df.head())\n",
    "\n",
    "plt.figure(figsize=(8, 6))\n",
    "sns.scatterplot(x=df[\"Temperatura (ºC)\"], y=df[\"Vendas de Sorvetes (unidades)\"])\n",
    "plt.title(\"Relação entre Temperatura e Vendas de Sorvetes\")\n",
    "plt.xlabel(\"Temperatura (ºC)\")\n",
    "plt.ylabel(\"Vendas de Sorvetes (unidades)\")\n",
    "plt.show()\n",
    "X = df[[\"Temperatura (ºC)\"]]\n",
    "y = df[\"Vendas de Sorvetes (unidades)\"]\n",
    "\n",
    "X_train, X_test, y_train, y_test = train_test_split(X, y, test_size=0.2, random_state=42)\n",
    "modelo = LinearRegression()\n",
    "modelo.fit(X_train, y_train)\n",
    "\n",
    "# Exibir coeficientes do modelo\n",
    "print(\"Coeficiente:\", modelo.coef_[0])\n",
    "print(\"Interceptação:\", modelo.intercept_)\n",
    "y_pred = modelo.predict(X_test)\n",
    "\n",
    "print(\"MAE:\", mean_absolute_error(y_test, y_pred))\n",
    "print(\"R² Score:\", r2_score(y_test, y_pred))\n",
    "\n"
   ]
  }
 ],
 "metadata": {
  "language_info": {
   "name": "python"
  }
 },
 "nbformat": 4,
 "nbformat_minor": 5
}
